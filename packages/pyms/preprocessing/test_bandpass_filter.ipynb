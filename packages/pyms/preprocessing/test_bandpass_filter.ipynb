{
 "cells": [
  {
   "cell_type": "code",
   "execution_count": 1,
   "metadata": {},
   "outputs": [],
   "source": [
    "from mltools import mlstudy as mls\n",
    "from mltools import mlproc as ml\n",
    "from mltools import mdaio\n",
    "import numpy as np\n",
    "import time"
   ]
  },
  {
   "cell_type": "code",
   "execution_count": 11,
   "metadata": {},
   "outputs": [
    {
     "data": {
      "text/plain": [
       "True"
      ]
     },
     "execution_count": 11,
     "metadata": {},
     "output_type": "execute_result"
    }
   ],
   "source": [
    "# Generate sample data\n",
    "M=4\n",
    "samplerate=30000\n",
    "duration=60*20\n",
    "N=int(samplerate*duration)\n",
    "\n",
    "X=100*np.random.normal(0,1,[M,N])**2\n",
    "mdaio.writemda16i(X,'raw.mda')"
   ]
  },
  {
   "cell_type": "code",
   "execution_count": 12,
   "metadata": {},
   "outputs": [
    {
     "name": "stdout",
     "output_type": "stream",
     "text": [
      "RUNNING:::::: ml-run-process pyms.bandpass_filter --inputs timeseries:raw.mda --parameters freq_max:6000 freq_min:300 samplerate:30000 --outputs timeseries_out:filt.mda\n",
      "[ Getting processor spec... ]\n",
      "[ Checking inputs and substituting prvs ... ]\n",
      "[ Computing process signature ... ]\n",
      "[ Checking outputs... ]\n",
      "[ Checking process cache ... ]\n",
      "[ Creating temporary directory ... ]\n",
      "[ Initializing process ... ]\n",
      "[ Running ... ] /home/magland/main-venv/bin/python3 /home/magland/.mountainlab/packages/mountainsort/packages/pyms/preprocessing/preprocessing.py pyms.bandpass_filter --timeseries=/home/magland/.mountainlab/packages/mountainsort/packages/pyms/preprocessing/raw.mda --timeseries_out=/home/magland/.mountainlab/packages/mountainsort/packages/pyms/preprocessing/filt.mda --freq_max=6000 --freq_min=300 --samplerate=30000 --_tempdir=/tmp/mountainlab-tmp/tempdir_5ae93e396e_fF4MdB\n",
      "Chunk size: 30000, Padding: 3000, Num chunks: 1200, Num processes: 8\n",
      "\n",
      "[ Saving to process cache ... ]\n",
      "[ Removing temporary directory ... ]\n",
      "[ Done. ]\n",
      "Elapsed time (sec): 11.116099834442139\n"
     ]
    }
   ],
   "source": [
    "timer=time.time()\n",
    "\n",
    "ml.runProcess('pyms.bandpass_filter',{'timeseries':'raw.mda'},{'timeseries_out':'filt.mda'},{'samplerate':30000,'freq_min':300,'freq_max':6000},{})\n",
    "\n",
    "elapsed=time.time()-timer\n",
    "print ('Elapsed time (sec): {}'.format(elapsed))"
   ]
  },
  {
   "cell_type": "code",
   "execution_count": 14,
   "metadata": {},
   "outputs": [],
   "source": [
    "from view_timeseries import view_timeseries\n",
    "A=mdaio.readmda('raw.mda')\n",
    "B=mdaio.readmda('filt.mda')\n",
    "trange=[samplerate*60*10,samplerate*(60*10+0.01)]\n",
    "#fig_size=[18,10]\n",
    "#view_timeseries(np.concatenate((A,np.zeros((1,A.shape[1])),B),axis=0),trange=trange,fig_size=fig_size)"
   ]
  },
  {
   "cell_type": "code",
   "execution_count": null,
   "metadata": {},
   "outputs": [],
   "source": []
  }
 ],
 "metadata": {
  "kernelspec": {
   "display_name": "Python 3",
   "language": "python",
   "name": "python3"
  },
  "language_info": {
   "codemirror_mode": {
    "name": "ipython",
    "version": 3
   },
   "file_extension": ".py",
   "mimetype": "text/x-python",
   "name": "python",
   "nbconvert_exporter": "python",
   "pygments_lexer": "ipython3",
   "version": "3.5.2"
  }
 },
 "nbformat": 4,
 "nbformat_minor": 2
}
